{
 "cells": [
  {
   "cell_type": "code",
   "execution_count": 1,
   "metadata": {},
   "outputs": [
    {
     "name": "stdout",
     "output_type": "stream",
     "text": [
      "[[ 0.  0.  0.  0.  0.  0. -1.  0.  0.  0.]\n",
      " [ 0.  0.  0.  0.  0. -1.  0.  0.  0.  0.]\n",
      " [ 0.  0.  0.  0.  0.  1.  0.  0.  0.  0.]]\n"
     ]
    }
   ],
   "source": [
    "from sklearn.feature_extraction import FeatureHasher\n",
    "\n",
    "# Example categorical features\n",
    "categories = [{'city': 'London'}, {'city': 'New York'}, {'city': 'Tokyo'}]\n",
    "\n",
    "# Define FeatureHasher with desired number of output features (n_features)\n",
    "hasher = FeatureHasher(n_features=10, input_type='dict')\n",
    "\n",
    "# Transform the categories into a fixed-size hash vector\n",
    "hashed_features = hasher.transform(categories)\n",
    "\n",
    "# Convert to array for easier interpretation\n",
    "hashed_features = hashed_features.toarray()\n",
    "\n",
    "print(hashed_features)\n"
   ]
  }
 ],
 "metadata": {
  "kernelspec": {
   "display_name": "misc10",
   "language": "python",
   "name": "python3"
  },
  "language_info": {
   "codemirror_mode": {
    "name": "ipython",
    "version": 3
   },
   "file_extension": ".py",
   "mimetype": "text/x-python",
   "name": "python",
   "nbconvert_exporter": "python",
   "pygments_lexer": "ipython3",
   "version": "3.11.8"
  }
 },
 "nbformat": 4,
 "nbformat_minor": 2
}
